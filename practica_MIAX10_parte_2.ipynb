{
  "nbformat": 4,
  "nbformat_minor": 0,
  "metadata": {
    "colab": {
      "provenance": [],
      "toc_visible": true,
      "include_colab_link": true
    },
    "kernelspec": {
      "name": "python3",
      "display_name": "Python 3"
    },
    "language_info": {
      "name": "python"
    }
  },
  "cells": [
    {
      "cell_type": "markdown",
      "metadata": {
        "id": "view-in-github",
        "colab_type": "text"
      },
      "source": [
        "<a href=\"https://colab.research.google.com/github/carlos-314/carlos-314.github.io/blob/main/practica_MIAX10_parte_2.ipynb\" target=\"_parent\"><img src=\"https://colab.research.google.com/assets/colab-badge.svg\" alt=\"Open In Colab\"/></a>"
      ]
    },
    {
      "cell_type": "markdown",
      "source": [
        "<font color=\"#CA3532\"><h1 align=\"left\">Inteligencia Artificial Aplicada a los Mercados Financieros (MIAX-10)</h1></font>\n",
        "<font color=\"#5b5a59\"><h2 align=\"left\">Práctica sobre Redes Neuronales - Parte 2</h2></font>\n",
        "\n",
        "En esta segunda parte de la práctica se propone construir una red neuronal que aprenda a jugar al videojuego [snake](https://www.google.com/fbx?fbx=snake_arcade) de manera supervisada, a partir de un conjunto de jugadas de ejemplo. El snake es un videojuego clásico de los años 70 en el que el jugador controla una serpiente y trata de comer todas las manzanas posibles evitando chocarse con su propia cola o los límites del escenario de juego. Cada vez que la serpiente se come una manzana, su cola crece, aumentando la dificultad del juego.\n",
        "\n",
        "En este guión te contamos cómo implementar el modelo, paso a paso.\n",
        "\n",
        "\n",
        "\n",
        "*Versión 1, actualizada el 01-06-2023*\n",
        "\n"
      ],
      "metadata": {
        "id": "omeWsLqYUh5D"
      }
    },
    {
      "cell_type": "code",
      "execution_count": null,
      "metadata": {
        "id": "jBMngvuml4zx"
      },
      "outputs": [],
      "source": [
        "import tensorflow as tf\n",
        "from tensorflow import keras\n",
        "import numpy as np\n",
        "import matplotlib.pyplot as plt\n",
        "import matplotlib.animation as animation\n",
        "import random\n",
        "from enum import IntEnum\n",
        "from collections import namedtuple"
      ]
    },
    {
      "cell_type": "markdown",
      "source": [
        "# Descripción de los datos"
      ],
      "metadata": {
        "id": "XyozPIBLFEdz"
      }
    },
    {
      "cell_type": "markdown",
      "source": [
        "Lo primero que vamos a hacer es cargar los datos que usaremos para entrenar la red. Están en los ficheros ``dataset_x.npy`` y ``dataset_y.npy`` que acompañan a este enunciado. El primero contiene un conjunto de situaciones de partida, que incluyen la disposición del tablero y la dirección en la que se mueve la serpiente. El segundo contiene la acción a tomar en cada una de las situaciones anteriores."
      ],
      "metadata": {
        "id": "8epHWPWGmhQ3"
      }
    },
    {
      "cell_type": "code",
      "source": [
        "from google.colab import drive\n",
        "drive.mount('/content/drive')"
      ],
      "metadata": {
        "id": "iA73Jm6-OYdM"
      },
      "execution_count": null,
      "outputs": []
    },
    {
      "cell_type": "code",
      "source": [
        "# Cambia esta ruta para acceder al repositorio compartido\n",
        "# Si no sabes montarlo para que funcione, revisa la primera clase con Christian \n",
        "# de redes neuronales\n",
        "\n",
        "%cd /content/drive/MyDrive/miax-10/data/snake_training/"
      ],
      "metadata": {
        "id": "KJbk5emcOcOx"
      },
      "execution_count": null,
      "outputs": []
    },
    {
      "cell_type": "code",
      "source": [
        "x = np.load('dataset_x.npy')\n",
        "y = np.load('dataset_y.npy')\n",
        "\n",
        "print(x.shape)\n",
        "print(y.shape)"
      ],
      "metadata": {
        "id": "z5OvsTeimeZt"
      },
      "execution_count": null,
      "outputs": []
    },
    {
      "cell_type": "code",
      "source": [
        "# Volvemos a MyDrive para poder trabajar en local\n",
        "%cd /content/drive/MyDrive/"
      ],
      "metadata": {
        "id": "XMx_9K41O4L8"
      },
      "execution_count": null,
      "outputs": []
    },
    {
      "cell_type": "markdown",
      "source": [
        "Hay un total de ``271696`` situaciones de partida en el fichero ``dataset_x.npy``, cada una descrita por un vector de ``769`` componentes. Las primeras ``768`` componentes de este vector describen la disposición del tablero (de dimensiones ``24x32``). Cada una de las casillas del tablero puede tomar los siguientes valores:\n",
        "\n",
        "- ``0``: casilla vacía\n",
        "- ``1``: casilla ocupada por la cabeza de la serpiente\n",
        "- ``2``: casilla ocupada por algún segmento del cuerpo de la serpiente\n",
        "- ``3``: casilla ocupada por la manzana\n",
        "\n",
        "La última componente indica la dirección en la que se está moviendo la serpiente, y puede ser cualquiera de las siguientes:\n",
        "\n",
        "- ``0``: la serpiente se mueve hacia la derecha\n",
        "- ``1``: la serpiente se mueve hacia arriba\n",
        "- ``2``: la serpiente se mueve hacia la izquierda\n",
        "- ``3``: la serpiente se mueve hacia abajo\n",
        "\n",
        "Finalmente, el fichero ``dataset_y.npy`` contiene la siguiente dirección en la que se debe mover la serpiente, usando la misma codificación. \n",
        "\n",
        "A continuación se muestra, a modo de ejemplo, la disposición del tablero y las direcciones actual y siguiente para el ejemplo ``10214`` del fichero. Fíjate cómo se obtiene el tablero haciendo ``reshape`` y transponiendo la matriz resultante."
      ],
      "metadata": {
        "id": "26eflEsOoVE9"
      }
    },
    {
      "cell_type": "code",
      "source": [
        "ix = 10214\n",
        "\n",
        "board = x[ix, :-1].reshape(32, 24).transpose()\n",
        "direction = x[ix, -1]\n",
        "next = y[ix]\n",
        "\n",
        "plt.figure()\n",
        "plt.imshow(board)\n",
        "plt.title(f\"dir = {direction}, next dir = {next}\")\n",
        "plt.show()"
      ],
      "metadata": {
        "colab": {
          "base_uri": "https://localhost:8080/",
          "height": 452
        },
        "id": "G7jygsPimjO9",
        "outputId": "3df47438-fa75-487f-aa4b-2bed7ed048b3"
      },
      "execution_count": null,
      "outputs": [
        {
          "output_type": "display_data",
          "data": {
            "text/plain": [
              "<Figure size 640x480 with 1 Axes>"
            ],
            "image/png": "[encoded data removed]"
          },
          "metadata": {}
        }
      ]
    },
    {
      "cell_type": "markdown",
      "source": [
        "# Construcción del modelo"
      ],
      "metadata": {
        "id": "7k7fUxa5FLQZ"
      }
    },
    {
      "cell_type": "markdown",
      "source": [
        "La clase SnakeModel definida a continuación representa un modelo de jugador basado en una red neuronal. El constructor recibe los datos de entrenamiento, ``x`` e ``y``, en el mismo formato descrito antes. Para implementar tu propio jugador debes modificar exclusivamente los métodos ``preprocess`` y ``create_keras_model``.\n",
        "\n",
        "El método ``preprocess`` debe preparar los datos para la red neuronal. Lo mínimo es transformar los datos de salida, ``y``, en una nueva variable que describa la acción a realizar de manera relativa al movimiento actual de la serpiente, con los valores:\n",
        "\n",
        "- ``0``: girar a la derecha\n",
        "- ``1``: seguir recto\n",
        "- ``2``: girar a la izquierda\n",
        "\n",
        "Esto ya te lo damos hecho y no lo debes cambiar, pues el código que usaremos para probar tu jugador espera como salida las probabilidades para estas tres acciones. Por otra parte, aunque en el ejemplo no hacemos ninguna transformación sobre los datos en ``x``, es razonable que un buen preprocesado mejore considerablemente los resultados. En particular, sería deseable que todas las posiciones del tablero fuesen relativas a la cabeza de la serpiente.  \n",
        "\n",
        "El método ``create_keras_model`` crea y compila un modelo de Keras cuya entrada serán los datos, ``x``, procesados por el método anterior y cuya salida serán tres probabilidades, asociadas a las acciones girar a la derecha, seguir recto y girar a la izquierda, respectivamente. Se incluye un ejemplo de red que puedes modificar para conseguir un buen resultado."
      ],
      "metadata": {
        "id": "jmez4eMyw8bP"
      }
    },
    {
      "cell_type": "code",
      "source": [
        "class SnakeModel:\n",
        "  def __init__(self, data_x, data_y):\n",
        "    self.data_x, self.data_y = self.preprocess(data_x, data_y)\n",
        "    \n",
        "    self.keras_model = self.create_keras_model()\n",
        "\n",
        "  def create_keras_model(self):\n",
        "    n_in = self.data_x.shape[1]\n",
        "    n_out = len(np.unique(self.data_y))\n",
        "\n",
        "    #---------------------------------------------------------------------------\n",
        "    # TO-DO modifica el modelo de Keras como consideres\n",
        "    #---------------------------------------------------------------------------\n",
        "    model = keras.Sequential()\n",
        "    model.add(keras.layers.Input(shape=(n_in,)))\n",
        "    model.add(keras.layers.Dense(64, activation=\"relu\"))\n",
        "    model.add(keras.layers.Dense(3, activation=\"softmax\"))\n",
        "    model.compile(optimizer=keras.optimizers.Adam(), loss='sparse_categorical_crossentropy', metrics=['acc'])\n",
        "    #---------------------------------------------------------------------------\n",
        "    \n",
        "    return model\n",
        "\n",
        "  def preprocess(self, x, y):\n",
        "    new_y = (y - x[:, -1] + 5) % 4\n",
        "\n",
        "    #---------------------------------------------------------------------------\n",
        "    # TO-DO aplica las transformaciones que consideres necesarias a la \n",
        "    # variable x\n",
        "    #---------------------------------------------------------------------------\n",
        "    new_x = x\n",
        "    #---------------------------------------------------------------------------\n",
        "    \n",
        "    return new_x, new_y\n",
        "\n",
        "  def fit(self, num_epochs=100, batch_size=64):\n",
        "    self.keras_model.fit(self.data_x, self.data_y, epochs=num_epochs, batch_size=batch_size)\n",
        "\n",
        "  def predict(self, x):\n",
        "    return self.keras_model.predict(x, verbose=0)\n",
        "\n",
        "  def save(self, path, nombre):\n",
        "    self.keras_model.save_weights(path + nombre)\n",
        "\n",
        "  def load(self, path, nombre):\n",
        "    self.keras_model.load_weights(path + nombre)"
      ],
      "metadata": {
        "id": "PoeSnJURcEzN"
      },
      "execution_count": null,
      "outputs": []
    },
    {
      "cell_type": "markdown",
      "source": [
        "Una vez definida la clase, la instanciamos para crear un jugador:"
      ],
      "metadata": {
        "id": "LrCp_s-Y3WPW"
      }
    },
    {
      "cell_type": "code",
      "source": [
        "player = SnakeModel(x, y)"
      ],
      "metadata": {
        "id": "-G2VkqBZdlIe"
      },
      "execution_count": null,
      "outputs": []
    },
    {
      "cell_type": "markdown",
      "source": [
        "A continuación mostramos el modelo de Keras para el jugador:"
      ],
      "metadata": {
        "id": "hoTJX6zh3ebU"
      }
    },
    {
      "cell_type": "code",
      "source": [
        "tf.keras.utils.plot_model(player.keras_model, show_shapes=True, show_layer_names=False)"
      ],
      "metadata": {
        "colab": {
          "base_uri": "https://localhost:8080/",
          "height": 312
        },
        "id": "nLmx99WhfcuR",
        "outputId": "04ead6aa-aebb-439a-9bc2-f7bf9d120671"
      },
      "execution_count": null,
      "outputs": [
        {
          "output_type": "execute_result",
          "data": {
            "image/png": "[encoded data removed]",
            "text/plain": [
              "<IPython.core.display.Image object>"
            ]
          },
          "metadata": {},
          "execution_count": 27
        }
      ]
    },
    {
      "cell_type": "markdown",
      "source": [
        "Y lo entrenamos durante 10 épocas llamando al método ``fit``:"
      ],
      "metadata": {
        "id": "9vaA-Rbx3rAG"
      }
    },
    {
      "cell_type": "code",
      "source": [
        "player.fit(num_epochs=10)"
      ],
      "metadata": {
        "id": "BJuuTRMRcEwW"
      },
      "execution_count": null,
      "outputs": []
    },
    {
      "cell_type": "code",
      "source": [
        "path = \"/content/drive/MyDrive/mi_modelo_snake/\" # Cambia la ruta para que se guarde en tu drive"
      ],
      "metadata": {
        "id": "yeTx5OEWPus1"
      },
      "execution_count": null,
      "outputs": []
    },
    {
      "cell_type": "code",
      "source": [
        "player.save(path, 'modelo_001') # Dale el nombre que quieras al modelo"
      ],
      "metadata": {
        "id": "NGn-UM_HPPw-"
      },
      "execution_count": null,
      "outputs": []
    },
    {
      "cell_type": "markdown",
      "source": [
        "# Probando el modelo en partidas reales"
      ],
      "metadata": {
        "id": "cex6mx0RFc3U"
      }
    },
    {
      "cell_type": "markdown",
      "source": [
        "Una vez entrenado, podemos ver el desempeño de nuestro modelo cuando se enfrenta a partidas reales. La siguiente celda implementa el juego (código basado en https://github.com/patrickloeber/snake-ai-pytorch)."
      ],
      "metadata": {
        "id": "x_XQ9JeshVCR"
      }
    },
    {
      "cell_type": "code",
      "source": [
        "class DotType(IntEnum):\n",
        "    EMPTY = 0\n",
        "    SNAKE_HEAD = 1\n",
        "    SNAKE_BODY = 2\n",
        "    APPLE = 3\n",
        "\n",
        "class Direction(IntEnum):\n",
        "    RIGHT = 0\n",
        "    UP = 1\n",
        "    LEFT = 2\n",
        "    DOWN = 3\n",
        "    \n",
        "Point = namedtuple('Point', 'x, y')\n",
        "\n",
        "class Board:\n",
        "    def __init__(self, w=32, h=24):\n",
        "        self.w = w \n",
        "        self.h = h \n",
        "        self.board = np.zeros((self.w, self.h), dtype=np.uint8)\n",
        "\n",
        "    def _get_coordinates(self, dot):\n",
        "        return (dot.x, dot.y)\n",
        "\n",
        "    def generate(self, head, direction, snake, apple):\n",
        "        self.board *= 0\n",
        "\n",
        "        for dot in snake:\n",
        "            self.board[self._get_coordinates(dot)] = DotType.SNAKE_BODY\n",
        "        self.board[self._get_coordinates(head)] = DotType.SNAKE_HEAD\n",
        "        self.board[self._get_coordinates(apple)] = DotType.APPLE\n",
        "\n",
        "        return np.concatenate((self.board.reshape(-1), np.array([direction])), axis=0)\n",
        "\n",
        "class SnakeGame:\n",
        "    def __init__(self, player, w=32, h=24):\n",
        "        self.w = w\n",
        "        self.h = h\n",
        "        self.player = player\n",
        "\n",
        "        self.direction = Direction.RIGHT\n",
        "        self.last_turn = Direction.RIGHT\n",
        "        \n",
        "        self.head = Point(self.w//2, self.h//2)\n",
        "        self.snake = [self.head, Point(self.head.x-1, self.head.y), Point(self.head.x-2, self.head.y)]\n",
        "\n",
        "        self.board = Board(w, h)\n",
        "        \n",
        "        self.score = 0\n",
        "        self.food = None\n",
        "        self._place_food()\n",
        "       \n",
        "    def _place_food(self):\n",
        "        x = random.randint(0, self.w - 1) \n",
        "        y = random.randint(0, self.h - 1)\n",
        "        self.food = Point(x, y)\n",
        "        if self.food in self.snake:\n",
        "            self._place_food()\n",
        "        \n",
        "    def play_step(self):\n",
        "        # 1. get next move\n",
        "        data_x = self.board.generate(self.head, self.direction, self.snake, self.food)\n",
        "        self.direction = self._get_next_direction(data_x)\n",
        "        \n",
        "        # 2. move\n",
        "        self._move(self.direction) \n",
        "        self.snake.insert(0, self.head)\n",
        "        \n",
        "        # 3. check if game over\n",
        "        game_over = False\n",
        "        if self._is_collision():\n",
        "            game_over = True\n",
        "            return game_over, self.score\n",
        "            \n",
        "        # 4. place new food or just move\n",
        "        if self.head == self.food:\n",
        "            self.score += 1\n",
        "            self._place_food()\n",
        "        else:\n",
        "            self.snake.pop()\n",
        "        \n",
        "        # 5. return game over and score\n",
        "        return game_over, self.score\n",
        "    \n",
        "    def _is_collision(self):\n",
        "        # hits boundary\n",
        "        if self.head.x > (self.w - 1) or self.head.x < 0 or self.head.y > (self.h - 1) or self.head.y < 0:\n",
        "            return True\n",
        "        # hits itself\n",
        "        if self.head in self.snake[1:]:\n",
        "            return True\n",
        "        \n",
        "        return False\n",
        "        \n",
        "    def _get_next_direction(self, x):\n",
        "        xnew, _ = self.player.preprocess(x[None, :], np.zeros((1,)))\n",
        "        probs = self.player.predict(xnew)\n",
        "        ix = np.argmax(probs)\n",
        "        new_direction = (self.direction + 3 + ix) % 4\n",
        "        return new_direction\n",
        "\n",
        "    def _move(self, direction):\n",
        "        x = self.head.x\n",
        "        y = self.head.y\n",
        "        if direction == Direction.RIGHT:\n",
        "            x += 1\n",
        "        elif direction == Direction.LEFT:\n",
        "            x -= 1\n",
        "        elif direction == Direction.DOWN:\n",
        "            y += 1\n",
        "        elif direction == Direction.UP:\n",
        "            y -= 1\n",
        "            \n",
        "        self.head = Point(x, y)"
      ],
      "metadata": {
        "id": "dRui3dPbccyS"
      },
      "execution_count": null,
      "outputs": []
    },
    {
      "cell_type": "markdown",
      "source": [
        "Para probar nuestro modelo instanciamos la clase ``SnakeGame``, pasando el jugador al constructor, y realizamos algunas jugadas:"
      ],
      "metadata": {
        "id": "3V5N4EJPlYw9"
      }
    },
    {
      "cell_type": "code",
      "source": [
        "path = \"/content/drive/MyDrive/mi_modelo_snake/\" # Cambia la ruta para que se guarde en tu drive\n",
        "player = SnakeModel(x, y)\n",
        "player.load(path, 'modelo_001') # Usa el nombre del modelo que hayas guardado previamente\n",
        "game = SnakeGame(player=player)\n",
        "\n",
        "scores = []\n",
        "boards = []\n",
        "max_iters = 200 # Cambia el número de iteraciones máximas si lo ves necesario Esta es una ejecución para ti\n",
        "for iter in range(max_iters):\n",
        "    game_over, score = game.play_step()\n",
        "\n",
        "    data = game.board.generate(game.head, game.direction, game.snake, game.food)\n",
        "    board = data[:-1].reshape(32, 24).transpose()\n",
        "    boards.append(board)\n",
        "    scores.append(score)\n",
        "\n",
        "    print(f\"iter = {iter}, score = {score}\")\n",
        "    iter += 1\n",
        "\n",
        "    if game_over == True:\n",
        "        break\n",
        "    \n",
        "print('Final Score', score)"
      ],
      "metadata": {
        "id": "sBfnkeYn6MV6"
      },
      "execution_count": null,
      "outputs": []
    },
    {
      "cell_type": "markdown",
      "source": [
        "Podemos hacer una animación para visualizar mejor los resultados:"
      ],
      "metadata": {
        "id": "wnLs9VtBld8a"
      }
    },
    {
      "cell_type": "code",
      "source": [
        "def animate_func(num):\n",
        "    ax.clear()  \n",
        "    ax.imshow(boards[num], animated=True)\n",
        "    ax.set_title(f\"iter = {num}, score = {scores[num]}\")\n",
        "\n",
        "fig = plt.figure()\n",
        "ax = plt.axes()\n",
        "line_ani = animation.FuncAnimation(fig, animate_func, interval=100, frames=len(boards))\n",
        "\n",
        "f = \"animation.gif\"\n",
        "writer = animation.PillowWriter(fps=20)\n",
        "line_ani.save(path + f, writer=writer)    "
      ],
      "metadata": {
        "id": "QTf7jiP_cEnP"
      },
      "execution_count": null,
      "outputs": []
    },
    {
      "cell_type": "markdown",
      "source": [
        "La celda anterior creará un fichero gif animado con un contenido similar a este (el resultado final dependerá de la ejecución):\n",
        "\n",
        "![](https://drive.google.com/uc?id=1aLSwHNZs-63VkzSlRo5G8sMrfsUH_3HD)"
      ],
      "metadata": {
        "id": "30x_jON9l3PV"
      }
    },
    {
      "cell_type": "markdown",
      "source": [
        "No es ninguna maravilla, aunque al menos la serpiente no se choca. No te desanimes, con un poco de trabajo es posible conseguir resultados bastante mejores, como los de este ejemplo:\n",
        "\n",
        "![](https://drive.google.com/uc?id=1BoudUDMbtM3VBTR0XDwHNt__2nrbgLlG)"
      ],
      "metadata": {
        "id": "Bv4p-0Na5lHL"
      }
    },
    {
      "cell_type": "markdown",
      "source": [
        "# Objetivo de la práctica"
      ],
      "metadata": {
        "id": "wHVQ_mLzFi3b"
      }
    },
    {
      "cell_type": "markdown",
      "source": [
        "El objetivo de la práctica consiste en modificar las funciones de la clase ```SnakeModel``` , concretamente los métodos ```create_keras_model``` y ```preprocess```, para conseguir superar los siguientes apartados:\n",
        "\n",
        "* Comerse 5 manzanas en 1.000 iteraciones. <font color=\"#CA3532\">[2 Puntos]</font>\n",
        "\n",
        "* Comerse 20 manzanas en 1.000 iteraciones. <font color=\"#CA3532\">[2 Puntos]</font>\n",
        "\n",
        "* Generalizar a tableros de tamaño diferente. <font color=\"#CA3532\">[2 Puntos]</font>\n",
        "\n",
        "**Requisitos para puntuar el ejercicio**:\n",
        "\n",
        "1. El modelo solamente puede utilizar las capas de Keras vistas en clase. \n",
        "\n",
        "2. No se pueden utilizar técnicas de aprendizaje por refuerzo. \n",
        "\n",
        "**Importante**: Se evaluará con una puntuación de 0 aquellos modelos que utilicen otro tipo de capas, como, por ejemplo, las convolucionales. Si alguien tiene dudas con qué capas son válidas, preguntar a Christian por email: christian.oliva@uam.es. Sucederá de forma equivalente si se utilizan técnicas de aprendizaje por refuerzo.\n",
        "\n",
        "**Observación**: La puntuación de comer manzanas se calculará de forma proporcional al score promedio, es decir, según la siguiente ecuación:\n",
        "\n",
        "$$nota\\left(x\\right)\\ =\\ \\min\\left(\\max\\left(0,\\ \\frac{2x}{5}\\right),\\ 2\\right)+\\min\\left(\\max\\left(0,\\ \\frac{2\\left(x-5\\right)}{15}\\right),2\\right)$$\n",
        "\n",
        "donde $x$ es el score promedio de 10 partidas diferentes.\n",
        "\n",
        "*Ejemplo: Si has obtenido un score de 7.4 en 10 partidas, tu nota será: 2.32*\n",
        "\n",
        "**Observación**: Si en alguna ejecución, el modelo se choca antes de las 1000 iteraciones, no será penalizado y contará el score que haya obtenido hasta entonces."
      ],
      "metadata": {
        "id": "1AOBUhACFm0r"
      }
    },
    {
      "cell_type": "code",
      "source": [
        "def nota(x):\n",
        "  nota_parte_1 = np.min([np.max([0, 2*x/5]), 2])\n",
        "  print(\"Comerse 5 manzanas:\", np.around(nota_parte_1, decimals=2))\n",
        "  nota_parte_2 = np.min([np.max([0, 2*(x-5)/15]), 2])\n",
        "  print(\"Comerse 20 manzanas:\", np.around(nota_parte_2, decimals=2))\n",
        "  return np.around(nota_parte_1 + nota_parte_2, decimals=2)"
      ],
      "metadata": {
        "id": "RuIKmyLUUhI5"
      },
      "execution_count": null,
      "outputs": []
    },
    {
      "cell_type": "code",
      "source": [
        "nota(7.4)"
      ],
      "metadata": {
        "colab": {
          "base_uri": "https://localhost:8080/"
        },
        "id": "BXIBrmxwU1dP",
        "outputId": "71b1c45a-46b1-4a88-b7d8-e981f3bdebbd"
      },
      "execution_count": null,
      "outputs": [
        {
          "output_type": "stream",
          "name": "stdout",
          "text": [
            "Comerse 5 manzanas: 2.0\n",
            "Comerse 20 manzanas: 0.32\n"
          ]
        },
        {
          "output_type": "execute_result",
          "data": {
            "text/plain": [
              "2.32"
            ]
          },
          "metadata": {},
          "execution_count": 45
        }
      ]
    },
    {
      "cell_type": "markdown",
      "source": [
        "<font color=\"#CA3532\">[+0.5 punto extra]</font> Este ejercicio sumará, de forma proporcional, hasta medio punto extra a la nota según el score que el profesor obtenga utilizando tu modelo con 10 partidas diferentes dejando tiempo ilimitado a la partida. El profesor se encargará de implementar un mecanismo para evitar bucles infinitos si los hubiese.\n",
        "\n",
        "**Observaciones**: \n",
        "\n",
        "* Este ranking extra sumará hasta un +0.5 en la nota final, que servirá para corregir aquellos errores que se hayan cometido en otros ejercicios. \n",
        "\n",
        "* Aquel que tenga una nota >10 se quedará con el 10.\n",
        "\n",
        "* Aquel que obtenga un 0 en este punto extra (sea el peor score) seguirá teniendo la posibilidad de obtener la nota máxima de 10. Este punto es un +0.5, dándote la posibilidad de llegar hasta un 10.5. No te dejará la nota sobre 9.5."
      ],
      "metadata": {
        "id": "oK269T_hGmbc"
      }
    },
    {
      "cell_type": "markdown",
      "source": [
        "**¿Qué hay que entregar?**\n",
        "\n",
        "* Este notebook con la construcción del modelo actualizada, incluido el método de preprocesamiento.\n",
        "\n",
        "* Los pesos del modelo entrenado. Para ello, debéis utilizar el método ```save``` de la clase ```SnakeModel```. Debéis entregar los pesos generados en un zip. **OJO**: Asegúrate de que sea compatible con el método ```load``` que también os damos.\n",
        "\n",
        "Se debe entregar todo en un único fichero comprimido (ZIP, RAR, etc.)."
      ],
      "metadata": {
        "id": "do7PKlmXHG3Y"
      }
    },
    {
      "cell_type": "markdown",
      "source": [
        "La evaluación de la puntuación se realizará de forma similar al siguiente código:"
      ],
      "metadata": {
        "id": "MkaVfsipZYha"
      }
    },
    {
      "cell_type": "code",
      "source": [
        "# Es posible que la evaluación del profesor modifique ligeramente este código para evitar bucles infinitos, probar\n",
        "# otros tableros de tamaño diferentes o evaluar para el ranking.\n",
        "\n",
        "path = \"/content/drive/MyDrive/mi_modelo_snake/\" # El profesor adaptará el path para seleccionar el modelo correspondiente\n",
        "name = \"modelo_001\" # El profesor adaptará el path para seleccionar el modelo correspondiente\n",
        "\n",
        "scores_avg = []\n",
        "for i in range(10):\n",
        "  player = SnakeModel(x, y)\n",
        "  player.load(path, name)\n",
        "  game = SnakeGame(player=player)\n",
        "\n",
        "  scores = []\n",
        "  boards = []\n",
        "  max_iters = 1000\n",
        "  for iter in range(max_iters):\n",
        "      game_over, score = game.play_step()\n",
        "\n",
        "      data = game.board.generate(game.head, game.direction, game.snake, game.food)\n",
        "      board = data[:-1].reshape(32, 24).transpose()\n",
        "      boards.append(board)\n",
        "      scores.append(score)\n",
        "\n",
        "      print(f\"iter = {iter}, score = {score}\")\n",
        "      iter += 1\n",
        "\n",
        "      if game_over == True:\n",
        "          break\n",
        "      \n",
        "  print('['+str(i+1)+'] Final Score', score)\n",
        "  scores_avg.append(score)\n",
        "\n",
        "print(\"SCORE FINAL:\")\n",
        "print(np.mean(scores_avg), \"+-\", np.std(scores_avg))"
      ],
      "metadata": {
        "id": "5DZ_LfxY5kvu"
      },
      "execution_count": null,
      "outputs": []
    },
    {
      "cell_type": "code",
      "source": [],
      "metadata": {
        "id": "raK2wLEsn1AH"
      },
      "execution_count": null,
      "outputs": []
    }
  ]
}